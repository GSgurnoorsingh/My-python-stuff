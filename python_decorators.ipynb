{
 "cells": [
  {
   "cell_type": "markdown",
   "metadata": {},
   "source": [
    "The code below is basically functions nesting"
   ]
  },
  {
   "cell_type": "code",
   "execution_count": 5,
   "metadata": {},
   "outputs": [
    {
     "name": "stdout",
     "output_type": "stream",
     "text": [
      "The hello function has been executed!\n",
      "I am going to return a function\n",
      "\t This is the greet function inside hello()\n"
     ]
    }
   ],
   "source": [
    "def hello(name=\"Gurnoor\"):\n",
    "    print(\"The hello function has been executed!\")\n",
    "    \n",
    "    def greet():\n",
    "        return '\\t This is the greet function inside hello()'\n",
    "    \n",
    "    def welcome():\n",
    "        return '\\t This is the welcome function inside hello()'\n",
    "    \n",
    "    # print(greet())\n",
    "    # print(welcome())\n",
    "    # print(\"This is the end of the hello function\")\n",
    "    \n",
    "    print(\"I am going to return a function\")\n",
    "    \n",
    "    if name=='Gurnoor':\n",
    "        return greet\n",
    "    else:\n",
    "        return welcome\n",
    "    \n",
    "my_new_func=hello('Gurnoor')\n",
    "\n",
    "print(my_new_func())"
   ]
  },
  {
   "cell_type": "markdown",
   "metadata": {},
   "source": [
    "Below code is a fundamental concept for creating a decorator"
   ]
  },
  {
   "cell_type": "code",
   "execution_count": 7,
   "metadata": {},
   "outputs": [
    {
     "name": "stdout",
     "output_type": "stream",
     "text": [
      "Other code runs here\n",
      "Hi Gurnoor\n"
     ]
    }
   ],
   "source": [
    "def hello():\n",
    "    return \"Hi Gurnoor\"\n",
    "\n",
    "def other(some_new_function):\n",
    "    print(\"Other code runs here\")\n",
    "    print(some_new_function())\n",
    "    \n",
    "other(hello)"
   ]
  },
  {
   "cell_type": "markdown",
   "metadata": {},
   "source": [
    "Now finally onto decorators"
   ]
  },
  {
   "cell_type": "code",
   "execution_count": 8,
   "metadata": {},
   "outputs": [],
   "source": [
    "def new_decorator(original_func):\n",
    "    \n",
    "    def wrap_func():\n",
    "        print(\"Some extra code before the original function\")\n",
    "        \n",
    "        original_func()\n",
    "        \n",
    "        print(\"Some extra code, after the origianl function\")\n",
    "        \n",
    "    return wrap_func\n",
    "\n",
    "def func_needs_decorator():\n",
    "    print(\"I want to be decorated!!\")"
   ]
  },
  {
   "cell_type": "code",
   "execution_count": null,
   "metadata": {},
   "outputs": [
    {
     "name": "stdout",
     "output_type": "stream",
     "text": [
      "Some extra code before the original function\n",
      "I want to be decorated!!\n",
      "Some extra code, after the origianl function\n"
     ]
    }
   ],
   "source": [
    "decorated_func=new_decorator(func_needs_decorator)\n",
    "decorated_func() #This all thing we did here was a decortor but without @ operator"
   ]
  },
  {
   "cell_type": "markdown",
   "metadata": {},
   "source": [
    "Now with @ operator"
   ]
  },
  {
   "cell_type": "code",
   "execution_count": 11,
   "metadata": {},
   "outputs": [
    {
     "name": "stdout",
     "output_type": "stream",
     "text": [
      "Some extra code before the original function\n",
      "I want to be decorated!!\n",
      "Some extra code, after the origianl function\n"
     ]
    }
   ],
   "source": [
    "@new_decorator\n",
    "def func_needs_decorator():\n",
    "    print(\"I want to be decorated!!\")\n",
    "    \n",
    "func_needs_decorator()"
   ]
  },
  {
   "cell_type": "code",
   "execution_count": null,
   "metadata": {},
   "outputs": [],
   "source": []
  }
 ],
 "metadata": {
  "kernelspec": {
   "display_name": "base",
   "language": "python",
   "name": "python3"
  },
  "language_info": {
   "codemirror_mode": {
    "name": "ipython",
    "version": 3
   },
   "file_extension": ".py",
   "mimetype": "text/x-python",
   "name": "python",
   "nbconvert_exporter": "python",
   "pygments_lexer": "ipython3",
   "version": "3.12.7"
  }
 },
 "nbformat": 4,
 "nbformat_minor": 2
}
