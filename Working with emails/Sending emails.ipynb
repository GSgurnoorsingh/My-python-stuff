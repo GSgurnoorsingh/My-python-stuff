{
 "cells": [
  {
   "cell_type": "code",
   "execution_count": 1,
   "id": "d853a089",
   "metadata": {},
   "outputs": [],
   "source": [
    "import smtplib"
   ]
  },
  {
   "cell_type": "code",
   "execution_count": 2,
   "id": "faf7c974",
   "metadata": {},
   "outputs": [],
   "source": [
    "smtp_object=smtplib.SMTP('smtp.gmail.com',587)"
   ]
  },
  {
   "cell_type": "code",
   "execution_count": 3,
   "id": "a1a688e1",
   "metadata": {},
   "outputs": [
    {
     "data": {
      "text/plain": [
       "(250,\n",
       " b'smtp.gmail.com at your service, [103.158.239.23]\\nSIZE 35882577\\n8BITMIME\\nSTARTTLS\\nENHANCEDSTATUSCODES\\nPIPELINING\\nCHUNKING\\nSMTPUTF8')"
      ]
     },
     "execution_count": 3,
     "metadata": {},
     "output_type": "execute_result"
    }
   ],
   "source": [
    "smtp_object.ehlo() #This ehlo method basically greets the server"
   ]
  },
  {
   "cell_type": "code",
   "execution_count": 4,
   "id": "ba95a102",
   "metadata": {},
   "outputs": [
    {
     "data": {
      "text/plain": [
       "(220, b'2.0.0 Ready to start TLS')"
      ]
     },
     "execution_count": 4,
     "metadata": {},
     "output_type": "execute_result"
    }
   ],
   "source": [
    "smtp_object.starttls()"
   ]
  },
  {
   "cell_type": "code",
   "execution_count": 5,
   "id": "ea24d34f",
   "metadata": {},
   "outputs": [],
   "source": [
    "#See there are two method of setting a password"
   ]
  },
  {
   "cell_type": "code",
   "execution_count": 6,
   "id": "34544310",
   "metadata": {},
   "outputs": [],
   "source": [
    "#In this 1st method ,while typing the password, the password is visible to the user\n",
    "password=input(\"Enter you password:\")"
   ]
  },
  {
   "cell_type": "code",
   "execution_count": 7,
   "id": "93936ae6",
   "metadata": {},
   "outputs": [],
   "source": [
    "#But in this second method , the password will be hidden\n",
    "import getpass\n",
    "password=getpass.getpass(\"Password pleas:\")"
   ]
  },
  {
   "cell_type": "code",
   "execution_count": null,
   "id": "26c9f832",
   "metadata": {},
   "outputs": [],
   "source": []
  }
 ],
 "metadata": {
  "kernelspec": {
   "display_name": "base",
   "language": "python",
   "name": "python3"
  },
  "language_info": {
   "codemirror_mode": {
    "name": "ipython",
    "version": 3
   },
   "file_extension": ".py",
   "mimetype": "text/x-python",
   "name": "python",
   "nbconvert_exporter": "python",
   "pygments_lexer": "ipython3",
   "version": "3.12.7"
  }
 },
 "nbformat": 4,
 "nbformat_minor": 5
}
