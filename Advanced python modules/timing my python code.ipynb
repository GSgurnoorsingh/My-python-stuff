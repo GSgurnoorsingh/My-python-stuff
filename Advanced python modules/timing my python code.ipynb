{
 "cells": [
  {
   "cell_type": "code",
   "execution_count": 2,
   "id": "1c9ddc79",
   "metadata": {},
   "outputs": [],
   "source": [
    "def func_one(n):\n",
    "    return [str(num) for num in range(n)]"
   ]
  },
  {
   "cell_type": "code",
   "execution_count": 3,
   "id": "d4a7a128",
   "metadata": {},
   "outputs": [
    {
     "data": {
      "text/plain": [
       "['0', '1', '2', '3', '4', '5', '6', '7', '8', '9']"
      ]
     },
     "execution_count": 3,
     "metadata": {},
     "output_type": "execute_result"
    }
   ],
   "source": [
    "func_one(10)"
   ]
  },
  {
   "cell_type": "code",
   "execution_count": 4,
   "id": "cae84bae",
   "metadata": {},
   "outputs": [],
   "source": [
    "def func_two(n):\n",
    "    return list(map(str,range(n)))"
   ]
  },
  {
   "cell_type": "code",
   "execution_count": 5,
   "id": "b5be8190",
   "metadata": {},
   "outputs": [
    {
     "data": {
      "text/plain": [
       "['0', '1', '2', '3', '4', '5', '6', '7', '8', '9']"
      ]
     },
     "execution_count": 5,
     "metadata": {},
     "output_type": "execute_result"
    }
   ],
   "source": [
    "func_two(10)"
   ]
  },
  {
   "cell_type": "code",
   "execution_count": null,
   "id": "3978c2a2",
   "metadata": {},
   "outputs": [
    {
     "name": "stdout",
     "output_type": "stream",
     "text": [
      "0.0\n"
     ]
    }
   ],
   "source": [
    "#Now we will use time module to time our python code\n",
    "import time\n",
    "#CURRENT TIME BEFORE\n",
    "start_time=time.time()\n",
    "#RUN TIME\n",
    "result=func_one(1) \n",
    "#CURRENT TIME AFTER RUNNING CODE\n",
    "end_time=time.time()\n",
    "#ELAPSED TIME\n",
    "elapsed_time=end_time-start_time \n",
    "\n",
    "print(elapsed_time)"
   ]
  },
  {
   "cell_type": "code",
   "execution_count": 8,
   "id": "ca175f1c",
   "metadata": {},
   "outputs": [
    {
     "name": "stdout",
     "output_type": "stream",
     "text": [
      "0.0010025501251220703\n"
     ]
    }
   ],
   "source": [
    "#CURRENT TIME BEFORE\n",
    "start_time=time.time()\n",
    "#RUN TIME\n",
    "result=func_two(1)\n",
    "#CURRENT TIME AFTER RUNNING CODE\n",
    "end_time=time.time()\n",
    "#ELAPSED TIME\n",
    "elapsed_time=end_time-start_time \n",
    "\n",
    "print(elapsed_time)"
   ]
  },
  {
   "cell_type": "markdown",
   "id": "6e9e7d23",
   "metadata": {},
   "source": [
    "Now learning about timeit module"
   ]
  },
  {
   "cell_type": "code",
   "execution_count": 9,
   "id": "ad91f6b1",
   "metadata": {},
   "outputs": [],
   "source": [
    "import timeit\n",
    "stmt='''\n",
    "func_one(100)\n",
    "'''\n",
    "\n",
    "setup='''\n",
    "def func_one(n):\n",
    "    return [str(num) for num in range(n)]\n",
    "    ''' \n"
   ]
  },
  {
   "cell_type": "code",
   "execution_count": null,
   "id": "953f2705",
   "metadata": {},
   "outputs": [
    {
     "data": {
      "text/plain": [
       "2.7639958999934606"
      ]
     },
     "execution_count": 10,
     "metadata": {},
     "output_type": "execute_result"
    }
   ],
   "source": [
    "timeit.timeit(stmt,setup,number=100000) #It means that it took 2.76 second to run this func_one(100) code 100,000 times"
   ]
  },
  {
   "cell_type": "code",
   "execution_count": 11,
   "id": "a17607c4",
   "metadata": {},
   "outputs": [],
   "source": [
    "stmt2='''\n",
    "func_two(100)\n",
    "'''\n",
    "\n",
    "setup2='''    \n",
    "def func_two(n):\n",
    "    return list(map(str,range(n)))\n",
    "'''"
   ]
  },
  {
   "cell_type": "code",
   "execution_count": 12,
   "id": "ade1ee1f",
   "metadata": {},
   "outputs": [
    {
     "data": {
      "text/plain": [
       "3.085777399945073"
      ]
     },
     "execution_count": 12,
     "metadata": {},
     "output_type": "execute_result"
    }
   ],
   "source": [
    "timeit.timeit(stmt2,setup2,number=100000)"
   ]
  },
  {
   "cell_type": "code",
   "execution_count": null,
   "id": "1da4bc42",
   "metadata": {},
   "outputs": [],
   "source": []
  }
 ],
 "metadata": {
  "kernelspec": {
   "display_name": "base",
   "language": "python",
   "name": "python3"
  },
  "language_info": {
   "codemirror_mode": {
    "name": "ipython",
    "version": 3
   },
   "file_extension": ".py",
   "mimetype": "text/x-python",
   "name": "python",
   "nbconvert_exporter": "python",
   "pygments_lexer": "ipython3",
   "version": "3.12.7"
  }
 },
 "nbformat": 4,
 "nbformat_minor": 5
}
