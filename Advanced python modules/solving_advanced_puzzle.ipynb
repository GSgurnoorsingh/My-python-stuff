{
 "cells": [
  {
   "cell_type": "code",
   "execution_count": 1,
   "id": "c512ab47",
   "metadata": {},
   "outputs": [],
   "source": [
    "import zipfile\n",
    "zip_obj=zipfile.ZipFile('unzip_me_for_instructions.zip','r')\n",
    "zip_obj.extractall('extracted_instructions')"
   ]
  },
  {
   "cell_type": "code",
   "execution_count": null,
   "id": "99d31772",
   "metadata": {},
   "outputs": [],
   "source": [
    "import os\n",
    "import re\n",
    "def search(file,pattern=r'\\d{3}-\\d{3}-\\d{4}'):\n",
    "    f=open(file,'r')\n",
    "    text=f.read()\n",
    "    \n",
    "    if re.search(pattern,text):\n",
    "        return re.search(pattern,text)\n",
    "    else:\n",
    "        return ''\n",
    "\n",
    "results=[]\n",
    "for folder,subfolder,files in os.walk(os.getcwd()+'\\\\extracted_instructions'):\n",
    "    for f in files:\n",
    "        full_path=folder+'\\\\'+f\n",
    "        \n",
    "        results.append(search(full_path))\n",
    "        \n",
    "\n"
   ]
  },
  {
   "cell_type": "code",
   "execution_count": 5,
   "id": "66bbbade",
   "metadata": {},
   "outputs": [
    {
     "name": "stdout",
     "output_type": "stream",
     "text": [
      "719-266-2837\n"
     ]
    }
   ],
   "source": [
    "for r in results:\n",
    "    if r!='':\n",
    "        print(r.group())"
   ]
  },
  {
   "cell_type": "code",
   "execution_count": null,
   "id": "4f562e46",
   "metadata": {},
   "outputs": [],
   "source": []
  }
 ],
 "metadata": {
  "kernelspec": {
   "display_name": "base",
   "language": "python",
   "name": "python3"
  },
  "language_info": {
   "codemirror_mode": {
    "name": "ipython",
    "version": 3
   },
   "file_extension": ".py",
   "mimetype": "text/x-python",
   "name": "python",
   "nbconvert_exporter": "python",
   "pygments_lexer": "ipython3",
   "version": "3.12.7"
  }
 },
 "nbformat": 4,
 "nbformat_minor": 5
}
