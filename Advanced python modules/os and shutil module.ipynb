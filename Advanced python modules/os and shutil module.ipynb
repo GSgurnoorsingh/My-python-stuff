{
 "cells": [
  {
   "cell_type": "code",
   "execution_count": 2,
   "id": "0bc273f6",
   "metadata": {},
   "outputs": [],
   "source": [
    "f=open(\"myfile.txt\",'w')\n",
    "f.close()"
   ]
  },
  {
   "cell_type": "code",
   "execution_count": 3,
   "id": "b54178d1",
   "metadata": {},
   "outputs": [
    {
     "data": {
      "text/plain": [
       "'c:\\\\Users\\\\KIDS\\\\My python stuff'"
      ]
     },
     "execution_count": 3,
     "metadata": {},
     "output_type": "execute_result"
    }
   ],
   "source": [
    "import os\n",
    "os.getcwd()"
   ]
  },
  {
   "cell_type": "code",
   "execution_count": 4,
   "id": "f91bf509",
   "metadata": {},
   "outputs": [
    {
     "data": {
      "text/plain": [
       "['.ipynb_checkpoints',\n",
       " 'Advanced python modules.ipynb',\n",
       " 'errorhandling.ipynb',\n",
       " 'Files.ipynb',\n",
       " 'for loops.py',\n",
       " 'functions.ipynb',\n",
       " 'mapfunction.ipynb',\n",
       " 'myfile.txt',\n",
       " 'my_new_file.txt',\n",
       " 'oops.ipynb',\n",
       " 'os and shutil module.ipynb',\n",
       " 'python_decorators.ipynb',\n",
       " 'python_generator.ipynb',\n",
       " 'simple_guess_the_ball_game.py',\n",
       " 'string_formatting.py',\n",
       " 'testfile.txt',\n",
       " 'usefuloperators.ipynb',\n",
       " '__pycache__']"
      ]
     },
     "execution_count": 4,
     "metadata": {},
     "output_type": "execute_result"
    }
   ],
   "source": [
    "os.listdir()"
   ]
  },
  {
   "cell_type": "code",
   "execution_count": 5,
   "id": "b006f438",
   "metadata": {},
   "outputs": [
    {
     "data": {
      "text/plain": [
       "'c:\\\\Users\\\\KIDS\\\\myfile.txt'"
      ]
     },
     "execution_count": 5,
     "metadata": {},
     "output_type": "execute_result"
    }
   ],
   "source": [
    "import shutil\n",
    "shutil.move('myfile.txt','c:\\\\Users\\\\KIDS')"
   ]
  },
  {
   "cell_type": "code",
   "execution_count": 6,
   "id": "afe29e78",
   "metadata": {},
   "outputs": [
    {
     "data": {
      "text/plain": [
       "['.anaconda',\n",
       " '.conda',\n",
       " '.condarc',\n",
       " '.continuum',\n",
       " '.idlerc',\n",
       " '.ipynb_checkpoints',\n",
       " '.ipython',\n",
       " '.jupyter',\n",
       " '.matplotlib',\n",
       " '.ms-ad',\n",
       " '.python_history',\n",
       " '.spyder-py3',\n",
       " '.vscode',\n",
       " '3D Objects',\n",
       " 'anaconda3',\n",
       " 'anaconda_projects',\n",
       " 'AppData',\n",
       " 'append.py',\n",
       " 'applegame.py',\n",
       " 'Application Data',\n",
       " 'awhda.py',\n",
       " 'beginner python projects',\n",
       " 'Blackjack card game(project 2)',\n",
       " 'blah.py',\n",
       " 'c programs',\n",
       " 'cap.py',\n",
       " 'Ch 10 oops',\n",
       " 'CH-9 file Input and output (python)',\n",
       " 'chapter 9 practice set (file input, output)',\n",
       " 'Contacts',\n",
       " 'Cookies',\n",
       " 'daynote.txt',\n",
       " 'Desktop',\n",
       " 'Documents',\n",
       " 'Downloads',\n",
       " 'dsa in c',\n",
       " 'Favorites',\n",
       " 'file.py',\n",
       " 'game development',\n",
       " 'hhw.py',\n",
       " 'Install-Clash of Clans-GooglePlayGames-Beta (1).exe',\n",
       " 'Links',\n",
       " 'Local Settings',\n",
       " 'LOOPS practice set',\n",
       " 'More on oops',\n",
       " 'Music',\n",
       " 'My Documents',\n",
       " 'My python stuff',\n",
       " 'myfile.txt',\n",
       " 'NetHood',\n",
       " 'NTUSER.DAT',\n",
       " 'ntuser.dat.LOG1',\n",
       " 'ntuser.dat.LOG2',\n",
       " 'NTUSER.DAT{67cfbcbb-e31e-11eb-ae52-900f0cb5f156}.TM.blf',\n",
       " 'NTUSER.DAT{67cfbcbb-e31e-11eb-ae52-900f0cb5f156}.TMContainer00000000000000000001.regtrans-ms',\n",
       " 'NTUSER.DAT{67cfbcbb-e31e-11eb-ae52-900f0cb5f156}.TMContainer00000000000000000002.regtrans-ms',\n",
       " 'ntuser.ini',\n",
       " 'OneDrive',\n",
       " 'pb2.py',\n",
       " 'Pictures',\n",
       " 'practicalpractice.py',\n",
       " 'PrintHood',\n",
       " 'prog_file2.py',\n",
       " 'prog_file8.py',\n",
       " 'prog_sqlpyth1.py',\n",
       " 'PROJECT 1(snake,water,gun)',\n",
       " 'Project tic tac toe',\n",
       " 'py.py',\n",
       " 'python ch 10 practice set',\n",
       " 'Python chapter 1 practice set',\n",
       " 'python chapter 2 practice set',\n",
       " 'python chapter 3 practice set',\n",
       " 'python chapter 4 practice set',\n",
       " 'python chapter 5 practice set',\n",
       " 'python course',\n",
       " 'python faculty course',\n",
       " 'python practice problems',\n",
       " 'python.py',\n",
       " 'Recent',\n",
       " 'restaurant.py',\n",
       " 'Saved Games',\n",
       " 'Searches',\n",
       " 'SendTo',\n",
       " 'shoes.dat',\n",
       " 'Start Menu',\n",
       " 'Templates',\n",
       " 'test.txt',\n",
       " 'test2.txt',\n",
       " 'test_cap.py',\n",
       " 'Untitled.ipynb',\n",
       " 'Videos',\n",
       " 'warmup project 2(war game)',\n",
       " '__pycache__']"
      ]
     },
     "execution_count": 6,
     "metadata": {},
     "output_type": "execute_result"
    }
   ],
   "source": [
    "os.listdir('c:\\\\Users\\\\KIDS')"
   ]
  },
  {
   "cell_type": "code",
   "execution_count": null,
   "id": "22f66585",
   "metadata": {},
   "outputs": [],
   "source": []
  }
 ],
 "metadata": {
  "kernelspec": {
   "display_name": "base",
   "language": "python",
   "name": "python3"
  },
  "language_info": {
   "codemirror_mode": {
    "name": "ipython",
    "version": 3
   },
   "file_extension": ".py",
   "mimetype": "text/x-python",
   "name": "python",
   "nbconvert_exporter": "python",
   "pygments_lexer": "ipython3",
   "version": "3.12.7"
  }
 },
 "nbformat": 4,
 "nbformat_minor": 5
}
