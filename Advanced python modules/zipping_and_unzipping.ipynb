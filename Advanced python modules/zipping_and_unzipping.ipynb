{
 "cells": [
  {
   "cell_type": "code",
   "execution_count": 1,
   "id": "42812a86",
   "metadata": {},
   "outputs": [],
   "source": [
    "f=open('FILE_ONE.txt','w+')\n",
    "f.write(\"ONE FILE\")\n",
    "f.close()"
   ]
  },
  {
   "cell_type": "code",
   "execution_count": 2,
   "id": "382b4525",
   "metadata": {},
   "outputs": [],
   "source": [
    "f=open('FILE_TWO.txt','w+')\n",
    "f.write('TWO FILE')\n",
    "f.close()"
   ]
  },
  {
   "cell_type": "code",
   "execution_count": 3,
   "id": "0769f80c",
   "metadata": {},
   "outputs": [],
   "source": [
    "import zipfile\n",
    "comp_file=zipfile.ZipFile('comp_file.zip','w')\n"
   ]
  },
  {
   "cell_type": "code",
   "execution_count": 4,
   "id": "a467a7bc",
   "metadata": {},
   "outputs": [],
   "source": [
    "comp_file.write('FILE_ONE.txt',compress_type=zipfile.ZIP_DEFLATED)"
   ]
  },
  {
   "cell_type": "code",
   "execution_count": 5,
   "id": "481692e4",
   "metadata": {},
   "outputs": [],
   "source": [
    "comp_file.write('FILE_TWO.txt',compress_type=zipfile.ZIP_DEFLATED)"
   ]
  },
  {
   "cell_type": "code",
   "execution_count": 6,
   "id": "921ba199",
   "metadata": {},
   "outputs": [],
   "source": [
    "comp_file.close()"
   ]
  },
  {
   "cell_type": "code",
   "execution_count": 7,
   "id": "9f56e275",
   "metadata": {},
   "outputs": [],
   "source": [
    "zip_obj=zipfile.ZipFile('comp_file.zip','r')\n",
    "zip_obj.extractall('extracted_content')"
   ]
  },
  {
   "cell_type": "code",
   "execution_count": 1,
   "id": "66f79fc7",
   "metadata": {},
   "outputs": [
    {
     "data": {
      "text/plain": [
       "'c:\\\\Users\\\\KIDS\\\\My python stuff\\\\Advanced python modules'"
      ]
     },
     "execution_count": 1,
     "metadata": {},
     "output_type": "execute_result"
    }
   ],
   "source": [
    "pwd"
   ]
  },
  {
   "cell_type": "code",
   "execution_count": 9,
   "id": "dd529434",
   "metadata": {},
   "outputs": [
    {
     "data": {
      "text/plain": [
       "'c:\\\\Users\\\\KIDS\\\\My python stuff\\\\Advanced python modules\\\\example.zip'"
      ]
     },
     "execution_count": 9,
     "metadata": {},
     "output_type": "execute_result"
    }
   ],
   "source": [
    "import shutil\n",
    "dir_to_zip='c:\\\\Users\\\\KIDS\\\\My python stuff\\\\Advanced python modules\\\\extracted_content'\n",
    "output_filename='example'\n",
    "shutil.make_archive(output_filename,'zip',dir_to_zip)"
   ]
  },
  {
   "cell_type": "code",
   "execution_count": null,
   "id": "2e4c1c69",
   "metadata": {},
   "outputs": [],
   "source": [
    "shutil.unpack_archive('example.zip','final_unzip','zip') "
   ]
  }
 ],
 "metadata": {
  "kernelspec": {
   "display_name": "base",
   "language": "python",
   "name": "python3"
  },
  "language_info": {
   "codemirror_mode": {
    "name": "ipython",
    "version": 3
   },
   "file_extension": ".py",
   "mimetype": "text/x-python",
   "name": "python",
   "nbconvert_exporter": "python",
   "pygments_lexer": "ipython3",
   "version": "3.12.7"
  }
 },
 "nbformat": 4,
 "nbformat_minor": 5
}
