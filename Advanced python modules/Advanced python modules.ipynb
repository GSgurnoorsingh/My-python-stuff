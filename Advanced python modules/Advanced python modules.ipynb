{
 "cells": [
  {
   "cell_type": "markdown",
   "id": "a097cd8e",
   "metadata": {},
   "source": [
    "Firstly collections module"
   ]
  },
  {
   "cell_type": "code",
   "execution_count": 1,
   "id": "925a21c7",
   "metadata": {},
   "outputs": [
    {
     "data": {
      "text/plain": [
       "Counter({2: 5, 3: 5, 1: 4})"
      ]
     },
     "execution_count": 1,
     "metadata": {},
     "output_type": "execute_result"
    }
   ],
   "source": [
    "from collections import Counter\n",
    "mylist=[1,1,1,1,2,2,2,2,2,3,3,3,3,3]\n",
    "Counter(mylist)"
   ]
  },
  {
   "cell_type": "code",
   "execution_count": 2,
   "id": "9d6cf94d",
   "metadata": {},
   "outputs": [
    {
     "data": {
      "text/plain": [
       "Counter({10: 3, 'a': 2})"
      ]
     },
     "execution_count": 2,
     "metadata": {},
     "output_type": "execute_result"
    }
   ],
   "source": [
    "mylist=['a','a',10,10,10]\n",
    "Counter(mylist)"
   ]
  },
  {
   "cell_type": "code",
   "execution_count": 3,
   "id": "20346db1",
   "metadata": {},
   "outputs": [
    {
     "data": {
      "text/plain": [
       "Counter({'a': 14, 'd': 13, 'b': 7, 'c': 6})"
      ]
     },
     "execution_count": 3,
     "metadata": {},
     "output_type": "execute_result"
    }
   ],
   "source": [
    "letters='aaaaaaaaaaaaaabbbbbbbccccccddddddddddddd'\n",
    "c=Counter(letters)\n",
    "c"
   ]
  },
  {
   "cell_type": "code",
   "execution_count": null,
   "id": "0f1c9d79",
   "metadata": {},
   "outputs": [
    {
     "data": {
      "text/plain": [
       "[('a', 14), ('d', 13)]"
      ]
     },
     "execution_count": 6,
     "metadata": {},
     "output_type": "execute_result"
    }
   ],
   "source": [
    "c.most_common(2) #basically it provides the most common occurence in a letter"
   ]
  },
  {
   "cell_type": "code",
   "execution_count": 7,
   "id": "54d05bc9",
   "metadata": {},
   "outputs": [
    {
     "data": {
      "text/plain": [
       "100"
      ]
     },
     "execution_count": 7,
     "metadata": {},
     "output_type": "execute_result"
    }
   ],
   "source": [
    "from collections import defaultdict\n",
    "d=defaultdict(lambda:0)\n",
    "d['correct']=100\n",
    "d['correct']"
   ]
  },
  {
   "cell_type": "code",
   "execution_count": null,
   "id": "a7ac36f7",
   "metadata": {},
   "outputs": [
    {
     "data": {
      "text/plain": [
       "0"
      ]
     },
     "execution_count": 8,
     "metadata": {},
     "output_type": "execute_result"
    }
   ],
   "source": [
    "d['wrong'] #basically defaultdict's job is to dont return error when we write wrong command , instead give us the deafult value we assigned "
   ]
  },
  {
   "cell_type": "code",
   "execution_count": 9,
   "id": "3a7d9d03",
   "metadata": {},
   "outputs": [
    {
     "data": {
      "text/plain": [
       "defaultdict(<function __main__.<lambda>()>, {'correct': 100, 'wrong': 0})"
      ]
     },
     "execution_count": 9,
     "metadata": {},
     "output_type": "execute_result"
    }
   ],
   "source": [
    "d"
   ]
  },
  {
   "cell_type": "code",
   "execution_count": null,
   "id": "38865f72",
   "metadata": {},
   "outputs": [
    {
     "data": {
      "text/plain": [
       "Dog(age=5, breed='Husky', name='Sammy')"
      ]
     },
     "execution_count": 10,
     "metadata": {},
     "output_type": "execute_result"
    }
   ],
   "source": [
    "from collections import namedtuple\n",
    "Dog=namedtuple('Dog',['age','breed','name']) #namedtuple creates a tuple with all the details we mentioned here for ex\n",
    "sammy=Dog(age=5,breed='Husky',name='Sammy')\n",
    "sammy"
   ]
  },
  {
   "cell_type": "code",
   "execution_count": null,
   "id": "bb3e3d4a",
   "metadata": {},
   "outputs": [],
   "source": []
  }
 ],
 "metadata": {
  "kernelspec": {
   "display_name": "base",
   "language": "python",
   "name": "python3"
  },
  "language_info": {
   "codemirror_mode": {
    "name": "ipython",
    "version": 3
   },
   "file_extension": ".py",
   "mimetype": "text/x-python",
   "name": "python",
   "nbconvert_exporter": "python",
   "pygments_lexer": "ipython3",
   "version": "3.12.7"
  }
 },
 "nbformat": 4,
 "nbformat_minor": 5
}
