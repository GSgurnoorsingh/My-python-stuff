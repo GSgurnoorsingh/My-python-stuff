{
 "cells": [
  {
   "cell_type": "code",
   "execution_count": 2,
   "id": "592ed7e8",
   "metadata": {},
   "outputs": [
    {
     "data": {
      "text/plain": [
       "<re.Match object; span=(12, 17), match='phone'>"
      ]
     },
     "execution_count": 2,
     "metadata": {},
     "output_type": "execute_result"
    }
   ],
   "source": [
    "text=\"The agent's phone number is 408-555-1234. Call Soon!\"\n",
    "import re\n",
    "pattern='phone'\n",
    "match=re.search(pattern,text)\n",
    "match"
   ]
  },
  {
   "cell_type": "code",
   "execution_count": 3,
   "id": "6aa3f89e",
   "metadata": {},
   "outputs": [
    {
     "data": {
      "text/plain": [
       "(12, 17)"
      ]
     },
     "execution_count": 3,
     "metadata": {},
     "output_type": "execute_result"
    }
   ],
   "source": [
    "match.span()"
   ]
  },
  {
   "cell_type": "code",
   "execution_count": 4,
   "id": "766a2a8f",
   "metadata": {},
   "outputs": [
    {
     "name": "stdout",
     "output_type": "stream",
     "text": [
      "12\n"
     ]
    },
    {
     "data": {
      "text/plain": [
       "17"
      ]
     },
     "execution_count": 4,
     "metadata": {},
     "output_type": "execute_result"
    }
   ],
   "source": [
    "print(match.start())\n",
    "match.end()"
   ]
  },
  {
   "cell_type": "code",
   "execution_count": 5,
   "id": "cbfe8f86",
   "metadata": {},
   "outputs": [
    {
     "data": {
      "text/plain": [
       "(3, 8)"
      ]
     },
     "execution_count": 5,
     "metadata": {},
     "output_type": "execute_result"
    }
   ],
   "source": [
    "text='my phone is a new phone'\n",
    "match=re.search('phone',text)\n",
    "match.span()"
   ]
  },
  {
   "cell_type": "code",
   "execution_count": 6,
   "id": "3e3a4cac",
   "metadata": {},
   "outputs": [
    {
     "data": {
      "text/plain": [
       "['phone', 'phone']"
      ]
     },
     "execution_count": 6,
     "metadata": {},
     "output_type": "execute_result"
    }
   ],
   "source": [
    "matches=re.findall('phone',text) #To find list of all matches we used findall() method\n",
    "matches"
   ]
  },
  {
   "cell_type": "code",
   "execution_count": 7,
   "id": "2cdd918b",
   "metadata": {},
   "outputs": [
    {
     "data": {
      "text/plain": [
       "2"
      ]
     },
     "execution_count": 7,
     "metadata": {},
     "output_type": "execute_result"
    }
   ],
   "source": [
    "len(matches)"
   ]
  },
  {
   "cell_type": "code",
   "execution_count": 8,
   "id": "41b5a70a",
   "metadata": {},
   "outputs": [
    {
     "name": "stdout",
     "output_type": "stream",
     "text": [
      "(3, 8)\n",
      "(18, 23)\n"
     ]
    }
   ],
   "source": [
    "for match in re.finditer('phone',text): #To get actual match objects we used the iterators\n",
    "    print(match.span())"
   ]
  },
  {
   "cell_type": "code",
   "execution_count": 9,
   "id": "6a33b512",
   "metadata": {},
   "outputs": [
    {
     "data": {
      "text/plain": [
       "'phone'"
      ]
     },
     "execution_count": 9,
     "metadata": {},
     "output_type": "execute_result"
    }
   ],
   "source": [
    "match.group() #For getting the actual text that matched we used .group() method"
   ]
  },
  {
   "cell_type": "markdown",
   "id": "26ed6ea6",
   "metadata": {},
   "source": [
    "Now we will learn about patterns or dealing with patterns"
   ]
  },
  {
   "cell_type": "markdown",
   "id": "6f3e84b7",
   "metadata": {},
   "source": [
    "placing the r in front of the string allows python to understand that the \\ in the pattern string are not meant to be escape slashes."
   ]
  },
  {
   "cell_type": "code",
   "execution_count": 10,
   "id": "ab8262f6",
   "metadata": {},
   "outputs": [],
   "source": [
    "# \\d\tA digit\tfile_\\d\\d\tfile_25\n",
    "# \\w\tAlphanumeric\t\\w-\\w\\w\\w\tA-b_1\n",
    "# \\s\tWhite space\ta\\sb\\sc\ta b c\n",
    "# \\D\tA non digit\t\\D\\D\\D\tABC\n",
    "# \\W\tNon-alphanumeric\t\\W\\W\\W\\W\\W\t*-+=)\n",
    "# \\S\tNon-whitespace\t\\S\\S\\S\\S\tYoyo"
   ]
  },
  {
   "cell_type": "code",
   "execution_count": 11,
   "id": "512df870",
   "metadata": {},
   "outputs": [
    {
     "data": {
      "text/plain": [
       "'408-555-1243'"
      ]
     },
     "execution_count": 11,
     "metadata": {},
     "output_type": "execute_result"
    }
   ],
   "source": [
    "text='My telephone no is 408-555-1243'\n",
    "phone=re.search(r'\\d\\d\\d-\\d\\d\\d-\\d\\d\\d\\d',text)\n",
    "phone.group()"
   ]
  },
  {
   "cell_type": "code",
   "execution_count": 12,
   "id": "27710bda",
   "metadata": {},
   "outputs": [
    {
     "data": {
      "text/plain": [
       "<re.Match object; span=(19, 31), match='408-555-1243'>"
      ]
     },
     "execution_count": 12,
     "metadata": {},
     "output_type": "execute_result"
    }
   ],
   "source": [
    "re.search(r'\\d{3}-\\d{3}-\\d{4}',text) #Basically we jsut simplified \\d\\d\\d to \\d{3} and so on with \\d{4}"
   ]
  },
  {
   "cell_type": "markdown",
   "id": "cb8e91cf",
   "metadata": {},
   "source": [
    "Now to learn about GROUPS"
   ]
  },
  {
   "cell_type": "code",
   "execution_count": 13,
   "id": "2b9c4ee0",
   "metadata": {},
   "outputs": [
    {
     "data": {
      "text/plain": [
       "'408-555-1243'"
      ]
     },
     "execution_count": 13,
     "metadata": {},
     "output_type": "execute_result"
    }
   ],
   "source": [
    "phone_pattern=re.compile(r'\\d{3}-\\d{3}-\\d{4}') #re.compile(pattern) is used to define a regular expression\n",
    "results=re.search(phone_pattern,text) #re.search(pattern, text) finds the first occurrence of the pattern in text.\n",
    "results.group() #.group() retrieves the matched text."
   ]
  },
  {
   "cell_type": "code",
   "execution_count": 14,
   "id": "6d4cdd5f",
   "metadata": {},
   "outputs": [
    {
     "name": "stdout",
     "output_type": "stream",
     "text": [
      "9891-3546-645\n"
     ]
    }
   ],
   "source": [
    "#Another example code\n",
    "text=\"Call me at 9891-3546-645 tomorrow\"\n",
    "phone_pattern=re.compile(r'\\d{4}-\\d{4}-\\d{3}')\n",
    "results=re.search(phone_pattern,text)\n",
    "if results:\n",
    "    print(results.group())\n",
    "else:\n",
    "    print(\"No phone number found\")"
   ]
  },
  {
   "cell_type": "markdown",
   "id": "867f5aea",
   "metadata": {},
   "source": [
    "Additional regex syntax"
   ]
  },
  {
   "cell_type": "markdown",
   "id": "75256131",
   "metadata": {},
   "source": [
    "Wildcard character\n",
    "\n",
    "Use a \"wildcard\" as a placement that will match any character placed there.You can use simple character '.' for this. For example:- "
   ]
  },
  {
   "cell_type": "code",
   "execution_count": 16,
   "id": "ee637e55",
   "metadata": {},
   "outputs": [
    {
     "data": {
      "text/plain": [
       "['cat', 'hat', 'sat']"
      ]
     },
     "execution_count": 16,
     "metadata": {},
     "output_type": "execute_result"
    }
   ],
   "source": [
    "re.findall(r'.at','The cat in the hat sat there')"
   ]
  },
  {
   "cell_type": "code",
   "execution_count": 17,
   "id": "d9235ecc",
   "metadata": {},
   "outputs": [
    {
     "data": {
      "text/plain": [
       "['bat', 'lat']"
      ]
     },
     "execution_count": 17,
     "metadata": {},
     "output_type": "execute_result"
    }
   ],
   "source": [
    "re.findall(r\".at\",'The bat went splat')"
   ]
  },
  {
   "cell_type": "code",
   "execution_count": null,
   "id": "5cb09b65",
   "metadata": {},
   "outputs": [
    {
     "data": {
      "text/plain": [
       "['e bat', 'splat']"
      ]
     },
     "execution_count": 18,
     "metadata": {},
     "output_type": "execute_result"
    }
   ],
   "source": [
    "#If we write\n",
    "re.findall(r\"...at\",'The bat went splat') #Then we get three letters before the encountered at also"
   ]
  },
  {
   "cell_type": "markdown",
   "id": "d88caf03",
   "metadata": {},
   "source": [
    "Starts with and ends with"
   ]
  },
  {
   "cell_type": "code",
   "execution_count": 19,
   "id": "f9495a66",
   "metadata": {},
   "outputs": [
    {
     "data": {
      "text/plain": [
       "['2']"
      ]
     },
     "execution_count": 19,
     "metadata": {},
     "output_type": "execute_result"
    }
   ],
   "source": [
    "#We can use ^ to signal starts with,and the $ to signal ends with\n",
    "re.findall(r\"\\d$\",'This ends with a number 2')"
   ]
  },
  {
   "cell_type": "code",
   "execution_count": 20,
   "id": "2ee9cfdf",
   "metadata": {},
   "outputs": [
    {
     "data": {
      "text/plain": [
       "['1']"
      ]
     },
     "execution_count": 20,
     "metadata": {},
     "output_type": "execute_result"
    }
   ],
   "source": [
    "re.findall(r'^\\d','1 is the loneliest number not 2')"
   ]
  },
  {
   "cell_type": "markdown",
   "id": "f0621f98",
   "metadata": {},
   "source": [
    "Now about exclusion"
   ]
  },
  {
   "cell_type": "code",
   "execution_count": null,
   "id": "b914615a",
   "metadata": {},
   "outputs": [
    {
     "data": {
      "text/plain": [
       "['t',\n",
       " 'h',\n",
       " 'e',\n",
       " 'r',\n",
       " 'e',\n",
       " ' ',\n",
       " 'a',\n",
       " 'r',\n",
       " 'e',\n",
       " ' ',\n",
       " ' ',\n",
       " 'n',\n",
       " 'u',\n",
       " 'm',\n",
       " 'b',\n",
       " 'e',\n",
       " 'r',\n",
       " 's',\n",
       " ' ',\n",
       " ' ',\n",
       " 'i',\n",
       " 'n',\n",
       " 's',\n",
       " 'i',\n",
       " 'd',\n",
       " 'e',\n",
       " ' ',\n",
       " 't',\n",
       " 'h',\n",
       " 'i',\n",
       " 's',\n",
       " ' ',\n",
       " ' ',\n",
       " 's',\n",
       " 'e',\n",
       " 'n',\n",
       " 't',\n",
       " 'e',\n",
       " 'n',\n",
       " 'c',\n",
       " 'e']"
      ]
     },
     "execution_count": 21,
     "metadata": {},
     "output_type": "execute_result"
    }
   ],
   "source": [
    "#To exclude characters, we can use the ^ symbol in conjunction with a set of brackets [].Anything inside the bracket is excluded.\n",
    "phrase='there are 3 numbers 34 inside this 5 sentence'\n",
    "re.findall(r'[^\\d]',phrase) #therefore it removes all the numbers in the phrase"
   ]
  },
  {
   "cell_type": "code",
   "execution_count": 22,
   "id": "5d032691",
   "metadata": {},
   "outputs": [
    {
     "data": {
      "text/plain": [
       "['there are ', ' numbers ', ' inside this ', ' sentence']"
      ]
     },
     "execution_count": 22,
     "metadata": {},
     "output_type": "execute_result"
    }
   ],
   "source": [
    "#To get words together again use + sign\n",
    "re.findall(r'[^\\d]+',phrase)"
   ]
  },
  {
   "cell_type": "code",
   "execution_count": 26,
   "id": "24299460",
   "metadata": {},
   "outputs": [
    {
     "data": {
      "text/plain": [
       "['This is a string', ' But it has punctuation', ' How can we remove it']"
      ]
     },
     "execution_count": 26,
     "metadata": {},
     "output_type": "execute_result"
    }
   ],
   "source": [
    "#We can also use this to remove punctuation\n",
    "test_phrase='This is a string! But it has punctuation. How can we remove it?'\n",
    "re.findall(r'[^!.?]+',test_phrase)"
   ]
  },
  {
   "cell_type": "code",
   "execution_count": 28,
   "id": "cba5fab7",
   "metadata": {},
   "outputs": [
    {
     "data": {
      "text/plain": [
       "'This is a string But it has punctuation How can we remove it'"
      ]
     },
     "execution_count": 28,
     "metadata": {},
     "output_type": "execute_result"
    }
   ],
   "source": [
    "clean=''.join(re.findall('[^!.?]+',test_phrase))\n",
    "clean"
   ]
  },
  {
   "cell_type": "code",
   "execution_count": null,
   "id": "43322678",
   "metadata": {},
   "outputs": [],
   "source": []
  }
 ],
 "metadata": {
  "kernelspec": {
   "display_name": "base",
   "language": "python",
   "name": "python3"
  },
  "language_info": {
   "codemirror_mode": {
    "name": "ipython",
    "version": 3
   },
   "file_extension": ".py",
   "mimetype": "text/x-python",
   "name": "python",
   "nbconvert_exporter": "python",
   "pygments_lexer": "ipython3",
   "version": "3.12.7"
  }
 },
 "nbformat": 4,
 "nbformat_minor": 5
}
