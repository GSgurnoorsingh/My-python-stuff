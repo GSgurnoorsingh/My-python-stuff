{
 "cells": [
  {
   "cell_type": "code",
   "execution_count": 3,
   "id": "c5ed73a4",
   "metadata": {},
   "outputs": [],
   "source": [
    "import numpy as np\n",
    "import pandas as pd"
   ]
  },
  {
   "cell_type": "code",
   "execution_count": null,
   "id": "7ccf903b",
   "metadata": {},
   "outputs": [],
   "source": [
    "dict1={'name':['Gurnoor','Joshua','Hari'],\n",
    "       'marks':[97,86,75],\n",
    "       'city':['Delhi','Goa','Varanasi']}\n",
    "df=pd.DataFrame(dict1) #This basically creates an excel sheet inside python itself"
   ]
  },
  {
   "cell_type": "code",
   "execution_count": 6,
   "id": "3959a3b8",
   "metadata": {},
   "outputs": [
    {
     "data": {
      "text/html": [
       "<div>\n",
       "<style scoped>\n",
       "    .dataframe tbody tr th:only-of-type {\n",
       "        vertical-align: middle;\n",
       "    }\n",
       "\n",
       "    .dataframe tbody tr th {\n",
       "        vertical-align: top;\n",
       "    }\n",
       "\n",
       "    .dataframe thead th {\n",
       "        text-align: right;\n",
       "    }\n",
       "</style>\n",
       "<table border=\"1\" class=\"dataframe\">\n",
       "  <thead>\n",
       "    <tr style=\"text-align: right;\">\n",
       "      <th></th>\n",
       "      <th>name</th>\n",
       "      <th>marks</th>\n",
       "      <th>city</th>\n",
       "    </tr>\n",
       "  </thead>\n",
       "  <tbody>\n",
       "    <tr>\n",
       "      <th>0</th>\n",
       "      <td>Gurnoor</td>\n",
       "      <td>97</td>\n",
       "      <td>Delhi</td>\n",
       "    </tr>\n",
       "    <tr>\n",
       "      <th>1</th>\n",
       "      <td>Joshua</td>\n",
       "      <td>86</td>\n",
       "      <td>Goa</td>\n",
       "    </tr>\n",
       "    <tr>\n",
       "      <th>2</th>\n",
       "      <td>Hari</td>\n",
       "      <td>75</td>\n",
       "      <td>Varanasi</td>\n",
       "    </tr>\n",
       "  </tbody>\n",
       "</table>\n",
       "</div>"
      ],
      "text/plain": [
       "      name  marks      city\n",
       "0  Gurnoor     97     Delhi\n",
       "1   Joshua     86       Goa\n",
       "2     Hari     75  Varanasi"
      ]
     },
     "execution_count": 6,
     "metadata": {},
     "output_type": "execute_result"
    }
   ],
   "source": [
    "df"
   ]
  },
  {
   "cell_type": "code",
   "execution_count": 7,
   "id": "bec4b9c5",
   "metadata": {},
   "outputs": [],
   "source": [
    "#For taking this excel sheet's content into excel itself\n",
    "df.to_csv('friends.csv')"
   ]
  },
  {
   "cell_type": "code",
   "execution_count": 9,
   "id": "f386806b",
   "metadata": {},
   "outputs": [],
   "source": [
    "df.to_csv('friends_no_index.csv',index=False) #This creates csv file without index"
   ]
  },
  {
   "cell_type": "code",
   "execution_count": 10,
   "id": "7ef585b7",
   "metadata": {},
   "outputs": [
    {
     "data": {
      "text/html": [
       "<div>\n",
       "<style scoped>\n",
       "    .dataframe tbody tr th:only-of-type {\n",
       "        vertical-align: middle;\n",
       "    }\n",
       "\n",
       "    .dataframe tbody tr th {\n",
       "        vertical-align: top;\n",
       "    }\n",
       "\n",
       "    .dataframe thead th {\n",
       "        text-align: right;\n",
       "    }\n",
       "</style>\n",
       "<table border=\"1\" class=\"dataframe\">\n",
       "  <thead>\n",
       "    <tr style=\"text-align: right;\">\n",
       "      <th></th>\n",
       "      <th>name</th>\n",
       "      <th>marks</th>\n",
       "      <th>city</th>\n",
       "    </tr>\n",
       "  </thead>\n",
       "  <tbody>\n",
       "    <tr>\n",
       "      <th>0</th>\n",
       "      <td>Gurnoor</td>\n",
       "      <td>97</td>\n",
       "      <td>Delhi</td>\n",
       "    </tr>\n",
       "    <tr>\n",
       "      <th>1</th>\n",
       "      <td>Joshua</td>\n",
       "      <td>86</td>\n",
       "      <td>Goa</td>\n",
       "    </tr>\n",
       "  </tbody>\n",
       "</table>\n",
       "</div>"
      ],
      "text/plain": [
       "      name  marks   city\n",
       "0  Gurnoor     97  Delhi\n",
       "1   Joshua     86    Goa"
      ]
     },
     "execution_count": 10,
     "metadata": {},
     "output_type": "execute_result"
    }
   ],
   "source": [
    "df.head(2)"
   ]
  },
  {
   "cell_type": "code",
   "execution_count": 11,
   "id": "6ddeec38",
   "metadata": {},
   "outputs": [
    {
     "data": {
      "text/html": [
       "<div>\n",
       "<style scoped>\n",
       "    .dataframe tbody tr th:only-of-type {\n",
       "        vertical-align: middle;\n",
       "    }\n",
       "\n",
       "    .dataframe tbody tr th {\n",
       "        vertical-align: top;\n",
       "    }\n",
       "\n",
       "    .dataframe thead th {\n",
       "        text-align: right;\n",
       "    }\n",
       "</style>\n",
       "<table border=\"1\" class=\"dataframe\">\n",
       "  <thead>\n",
       "    <tr style=\"text-align: right;\">\n",
       "      <th></th>\n",
       "      <th>name</th>\n",
       "      <th>marks</th>\n",
       "      <th>city</th>\n",
       "    </tr>\n",
       "  </thead>\n",
       "  <tbody>\n",
       "    <tr>\n",
       "      <th>1</th>\n",
       "      <td>Joshua</td>\n",
       "      <td>86</td>\n",
       "      <td>Goa</td>\n",
       "    </tr>\n",
       "    <tr>\n",
       "      <th>2</th>\n",
       "      <td>Hari</td>\n",
       "      <td>75</td>\n",
       "      <td>Varanasi</td>\n",
       "    </tr>\n",
       "  </tbody>\n",
       "</table>\n",
       "</div>"
      ],
      "text/plain": [
       "     name  marks      city\n",
       "1  Joshua     86       Goa\n",
       "2    Hari     75  Varanasi"
      ]
     },
     "execution_count": 11,
     "metadata": {},
     "output_type": "execute_result"
    }
   ],
   "source": [
    "df.tail(2)"
   ]
  },
  {
   "cell_type": "code",
   "execution_count": 12,
   "id": "18bfa400",
   "metadata": {},
   "outputs": [
    {
     "data": {
      "text/html": [
       "<div>\n",
       "<style scoped>\n",
       "    .dataframe tbody tr th:only-of-type {\n",
       "        vertical-align: middle;\n",
       "    }\n",
       "\n",
       "    .dataframe tbody tr th {\n",
       "        vertical-align: top;\n",
       "    }\n",
       "\n",
       "    .dataframe thead th {\n",
       "        text-align: right;\n",
       "    }\n",
       "</style>\n",
       "<table border=\"1\" class=\"dataframe\">\n",
       "  <thead>\n",
       "    <tr style=\"text-align: right;\">\n",
       "      <th></th>\n",
       "      <th>marks</th>\n",
       "    </tr>\n",
       "  </thead>\n",
       "  <tbody>\n",
       "    <tr>\n",
       "      <th>count</th>\n",
       "      <td>3.0</td>\n",
       "    </tr>\n",
       "    <tr>\n",
       "      <th>mean</th>\n",
       "      <td>86.0</td>\n",
       "    </tr>\n",
       "    <tr>\n",
       "      <th>std</th>\n",
       "      <td>11.0</td>\n",
       "    </tr>\n",
       "    <tr>\n",
       "      <th>min</th>\n",
       "      <td>75.0</td>\n",
       "    </tr>\n",
       "    <tr>\n",
       "      <th>25%</th>\n",
       "      <td>80.5</td>\n",
       "    </tr>\n",
       "    <tr>\n",
       "      <th>50%</th>\n",
       "      <td>86.0</td>\n",
       "    </tr>\n",
       "    <tr>\n",
       "      <th>75%</th>\n",
       "      <td>91.5</td>\n",
       "    </tr>\n",
       "    <tr>\n",
       "      <th>max</th>\n",
       "      <td>97.0</td>\n",
       "    </tr>\n",
       "  </tbody>\n",
       "</table>\n",
       "</div>"
      ],
      "text/plain": [
       "       marks\n",
       "count    3.0\n",
       "mean    86.0\n",
       "std     11.0\n",
       "min     75.0\n",
       "25%     80.5\n",
       "50%     86.0\n",
       "75%     91.5\n",
       "max     97.0"
      ]
     },
     "execution_count": 12,
     "metadata": {},
     "output_type": "execute_result"
    }
   ],
   "source": [
    "df.describe()"
   ]
  },
  {
   "cell_type": "code",
   "execution_count": 13,
   "id": "b5ac1e97",
   "metadata": {},
   "outputs": [],
   "source": [
    "#On writing .read_csv with the file name the contents of the csv file gets read"
   ]
  },
  {
   "cell_type": "code",
   "execution_count": 14,
   "id": "abf7fe7e",
   "metadata": {},
   "outputs": [
    {
     "data": {
      "text/html": [
       "<div>\n",
       "<style scoped>\n",
       "    .dataframe tbody tr th:only-of-type {\n",
       "        vertical-align: middle;\n",
       "    }\n",
       "\n",
       "    .dataframe tbody tr th {\n",
       "        vertical-align: top;\n",
       "    }\n",
       "\n",
       "    .dataframe thead th {\n",
       "        text-align: right;\n",
       "    }\n",
       "</style>\n",
       "<table border=\"1\" class=\"dataframe\">\n",
       "  <thead>\n",
       "    <tr style=\"text-align: right;\">\n",
       "      <th></th>\n",
       "      <th>name</th>\n",
       "      <th>marks</th>\n",
       "      <th>city</th>\n",
       "    </tr>\n",
       "  </thead>\n",
       "  <tbody>\n",
       "    <tr>\n",
       "      <th>first</th>\n",
       "      <td>Gurnoor</td>\n",
       "      <td>97</td>\n",
       "      <td>Delhi</td>\n",
       "    </tr>\n",
       "    <tr>\n",
       "      <th>second</th>\n",
       "      <td>Joshua</td>\n",
       "      <td>86</td>\n",
       "      <td>Goa</td>\n",
       "    </tr>\n",
       "    <tr>\n",
       "      <th>third</th>\n",
       "      <td>Hari</td>\n",
       "      <td>75</td>\n",
       "      <td>Varanasi</td>\n",
       "    </tr>\n",
       "  </tbody>\n",
       "</table>\n",
       "</div>"
      ],
      "text/plain": [
       "           name  marks      city\n",
       "first   Gurnoor     97     Delhi\n",
       "second   Joshua     86       Goa\n",
       "third      Hari     75  Varanasi"
      ]
     },
     "execution_count": 14,
     "metadata": {},
     "output_type": "execute_result"
    }
   ],
   "source": [
    "df.index=['first','second','third']\n",
    "df"
   ]
  },
  {
   "cell_type": "code",
   "execution_count": 15,
   "id": "fefc4669",
   "metadata": {},
   "outputs": [
    {
     "data": {
      "text/plain": [
       "0     0.353101\n",
       "1     0.165588\n",
       "2     0.728727\n",
       "3     0.330286\n",
       "4     0.316042\n",
       "5     0.241869\n",
       "6     0.793838\n",
       "7     0.019160\n",
       "8     0.246892\n",
       "9     0.299447\n",
       "10    0.126052\n",
       "11    0.907838\n",
       "12    0.918919\n",
       "13    0.704517\n",
       "14    0.436551\n",
       "15    0.666582\n",
       "16    0.788634\n",
       "17    0.787928\n",
       "18    0.475564\n",
       "19    0.342301\n",
       "20    0.722428\n",
       "21    0.758311\n",
       "22    0.213613\n",
       "23    0.035784\n",
       "24    0.055282\n",
       "25    0.521907\n",
       "26    0.595314\n",
       "27    0.514793\n",
       "28    0.764582\n",
       "29    0.153995\n",
       "30    0.671259\n",
       "31    0.611440\n",
       "32    0.547913\n",
       "33    0.794070\n",
       "dtype: float64"
      ]
     },
     "execution_count": 15,
     "metadata": {},
     "output_type": "execute_result"
    }
   ],
   "source": [
    "ser=pd.Series(np.random.rand(34))\n",
    "ser"
   ]
  },
  {
   "cell_type": "code",
   "execution_count": 16,
   "id": "0d5775af",
   "metadata": {},
   "outputs": [
    {
     "data": {
      "text/plain": [
       "pandas.core.series.Series"
      ]
     },
     "execution_count": 16,
     "metadata": {},
     "output_type": "execute_result"
    }
   ],
   "source": [
    "type(ser)"
   ]
  },
  {
   "cell_type": "code",
   "execution_count": 17,
   "id": "ad8a6d8c",
   "metadata": {},
   "outputs": [],
   "source": [
    "newdef=pd.DataFrame(np.random.rand(334,5),index=np.arange(334))"
   ]
  },
  {
   "cell_type": "code",
   "execution_count": 20,
   "id": "9aa9bc5d",
   "metadata": {},
   "outputs": [
    {
     "data": {
      "text/html": [
       "<div>\n",
       "<style scoped>\n",
       "    .dataframe tbody tr th:only-of-type {\n",
       "        vertical-align: middle;\n",
       "    }\n",
       "\n",
       "    .dataframe tbody tr th {\n",
       "        vertical-align: top;\n",
       "    }\n",
       "\n",
       "    .dataframe thead th {\n",
       "        text-align: right;\n",
       "    }\n",
       "</style>\n",
       "<table border=\"1\" class=\"dataframe\">\n",
       "  <thead>\n",
       "    <tr style=\"text-align: right;\">\n",
       "      <th></th>\n",
       "      <th>0</th>\n",
       "      <th>1</th>\n",
       "      <th>2</th>\n",
       "      <th>3</th>\n",
       "      <th>4</th>\n",
       "    </tr>\n",
       "  </thead>\n",
       "  <tbody>\n",
       "    <tr>\n",
       "      <th>0</th>\n",
       "      <td>0.540487</td>\n",
       "      <td>0.326558</td>\n",
       "      <td>0.359120</td>\n",
       "      <td>0.350046</td>\n",
       "      <td>0.635693</td>\n",
       "    </tr>\n",
       "    <tr>\n",
       "      <th>1</th>\n",
       "      <td>0.140096</td>\n",
       "      <td>0.076584</td>\n",
       "      <td>0.072761</td>\n",
       "      <td>0.846030</td>\n",
       "      <td>0.809980</td>\n",
       "    </tr>\n",
       "    <tr>\n",
       "      <th>2</th>\n",
       "      <td>0.806041</td>\n",
       "      <td>0.635002</td>\n",
       "      <td>0.716215</td>\n",
       "      <td>0.274714</td>\n",
       "      <td>0.092815</td>\n",
       "    </tr>\n",
       "    <tr>\n",
       "      <th>3</th>\n",
       "      <td>0.271049</td>\n",
       "      <td>0.453517</td>\n",
       "      <td>0.026457</td>\n",
       "      <td>0.256336</td>\n",
       "      <td>0.992762</td>\n",
       "    </tr>\n",
       "    <tr>\n",
       "      <th>4</th>\n",
       "      <td>0.299175</td>\n",
       "      <td>0.057343</td>\n",
       "      <td>0.793956</td>\n",
       "      <td>0.973251</td>\n",
       "      <td>0.289114</td>\n",
       "    </tr>\n",
       "    <tr>\n",
       "      <th>...</th>\n",
       "      <td>...</td>\n",
       "      <td>...</td>\n",
       "      <td>...</td>\n",
       "      <td>...</td>\n",
       "      <td>...</td>\n",
       "    </tr>\n",
       "    <tr>\n",
       "      <th>329</th>\n",
       "      <td>0.087226</td>\n",
       "      <td>0.041990</td>\n",
       "      <td>0.658508</td>\n",
       "      <td>0.881255</td>\n",
       "      <td>0.691076</td>\n",
       "    </tr>\n",
       "    <tr>\n",
       "      <th>330</th>\n",
       "      <td>0.483579</td>\n",
       "      <td>0.694998</td>\n",
       "      <td>0.565225</td>\n",
       "      <td>0.572385</td>\n",
       "      <td>0.156788</td>\n",
       "    </tr>\n",
       "    <tr>\n",
       "      <th>331</th>\n",
       "      <td>0.320626</td>\n",
       "      <td>0.689593</td>\n",
       "      <td>0.691282</td>\n",
       "      <td>0.841320</td>\n",
       "      <td>0.303188</td>\n",
       "    </tr>\n",
       "    <tr>\n",
       "      <th>332</th>\n",
       "      <td>0.812029</td>\n",
       "      <td>0.919910</td>\n",
       "      <td>0.326371</td>\n",
       "      <td>0.743703</td>\n",
       "      <td>0.804560</td>\n",
       "    </tr>\n",
       "    <tr>\n",
       "      <th>333</th>\n",
       "      <td>0.448232</td>\n",
       "      <td>0.969311</td>\n",
       "      <td>0.774879</td>\n",
       "      <td>0.859652</td>\n",
       "      <td>0.484948</td>\n",
       "    </tr>\n",
       "  </tbody>\n",
       "</table>\n",
       "<p>334 rows × 5 columns</p>\n",
       "</div>"
      ],
      "text/plain": [
       "            0         1         2         3         4\n",
       "0    0.540487  0.326558  0.359120  0.350046  0.635693\n",
       "1    0.140096  0.076584  0.072761  0.846030  0.809980\n",
       "2    0.806041  0.635002  0.716215  0.274714  0.092815\n",
       "3    0.271049  0.453517  0.026457  0.256336  0.992762\n",
       "4    0.299175  0.057343  0.793956  0.973251  0.289114\n",
       "..        ...       ...       ...       ...       ...\n",
       "329  0.087226  0.041990  0.658508  0.881255  0.691076\n",
       "330  0.483579  0.694998  0.565225  0.572385  0.156788\n",
       "331  0.320626  0.689593  0.691282  0.841320  0.303188\n",
       "332  0.812029  0.919910  0.326371  0.743703  0.804560\n",
       "333  0.448232  0.969311  0.774879  0.859652  0.484948\n",
       "\n",
       "[334 rows x 5 columns]"
      ]
     },
     "execution_count": 20,
     "metadata": {},
     "output_type": "execute_result"
    }
   ],
   "source": [
    "newdef"
   ]
  },
  {
   "cell_type": "code",
   "execution_count": 21,
   "id": "b28d094f",
   "metadata": {},
   "outputs": [
    {
     "data": {
      "text/plain": [
       "Index([  0,   1,   2,   3,   4,   5,   6,   7,   8,   9,\n",
       "       ...\n",
       "       324, 325, 326, 327, 328, 329, 330, 331, 332, 333],\n",
       "      dtype='int32', length=334)"
      ]
     },
     "execution_count": 21,
     "metadata": {},
     "output_type": "execute_result"
    }
   ],
   "source": [
    "newdef.index"
   ]
  },
  {
   "cell_type": "code",
   "execution_count": 22,
   "id": "e0b97b87",
   "metadata": {},
   "outputs": [
    {
     "data": {
      "text/plain": [
       "RangeIndex(start=0, stop=5, step=1)"
      ]
     },
     "execution_count": 22,
     "metadata": {},
     "output_type": "execute_result"
    }
   ],
   "source": [
    "newdef.columns"
   ]
  },
  {
   "cell_type": "code",
   "execution_count": 24,
   "id": "ce1b3df3",
   "metadata": {},
   "outputs": [
    {
     "data": {
      "text/plain": [
       "array([[0.5404871 , 0.32655773, 0.3591203 , 0.35004643, 0.63569273],\n",
       "       [0.14009571, 0.07658384, 0.07276145, 0.84602954, 0.80997985],\n",
       "       [0.80604136, 0.63500241, 0.71621485, 0.27471396, 0.09281535],\n",
       "       ...,\n",
       "       [0.32062619, 0.6895934 , 0.69128194, 0.84132035, 0.30318844],\n",
       "       [0.81202894, 0.91990957, 0.3263714 , 0.74370295, 0.80456042],\n",
       "       [0.44823234, 0.96931089, 0.77487939, 0.8596522 , 0.48494817]])"
      ]
     },
     "execution_count": 24,
     "metadata": {},
     "output_type": "execute_result"
    }
   ],
   "source": [
    "newdef.to_numpy()"
   ]
  },
  {
   "cell_type": "code",
   "execution_count": 25,
   "id": "1e4aa021",
   "metadata": {},
   "outputs": [
    {
     "data": {
      "text/html": [
       "<div>\n",
       "<style scoped>\n",
       "    .dataframe tbody tr th:only-of-type {\n",
       "        vertical-align: middle;\n",
       "    }\n",
       "\n",
       "    .dataframe tbody tr th {\n",
       "        vertical-align: top;\n",
       "    }\n",
       "\n",
       "    .dataframe thead th {\n",
       "        text-align: right;\n",
       "    }\n",
       "</style>\n",
       "<table border=\"1\" class=\"dataframe\">\n",
       "  <thead>\n",
       "    <tr style=\"text-align: right;\">\n",
       "      <th></th>\n",
       "      <th>0</th>\n",
       "      <th>1</th>\n",
       "      <th>2</th>\n",
       "      <th>3</th>\n",
       "      <th>4</th>\n",
       "    </tr>\n",
       "  </thead>\n",
       "  <tbody>\n",
       "    <tr>\n",
       "      <th>0</th>\n",
       "      <td>0.540487</td>\n",
       "      <td>0.326558</td>\n",
       "      <td>0.359120</td>\n",
       "      <td>0.350046</td>\n",
       "      <td>0.635693</td>\n",
       "    </tr>\n",
       "    <tr>\n",
       "      <th>1</th>\n",
       "      <td>0.140096</td>\n",
       "      <td>0.076584</td>\n",
       "      <td>0.072761</td>\n",
       "      <td>0.846030</td>\n",
       "      <td>0.809980</td>\n",
       "    </tr>\n",
       "    <tr>\n",
       "      <th>2</th>\n",
       "      <td>0.806041</td>\n",
       "      <td>0.635002</td>\n",
       "      <td>0.716215</td>\n",
       "      <td>0.274714</td>\n",
       "      <td>0.092815</td>\n",
       "    </tr>\n",
       "    <tr>\n",
       "      <th>3</th>\n",
       "      <td>0.271049</td>\n",
       "      <td>0.453517</td>\n",
       "      <td>0.026457</td>\n",
       "      <td>0.256336</td>\n",
       "      <td>0.992762</td>\n",
       "    </tr>\n",
       "    <tr>\n",
       "      <th>4</th>\n",
       "      <td>0.299175</td>\n",
       "      <td>0.057343</td>\n",
       "      <td>0.793956</td>\n",
       "      <td>0.973251</td>\n",
       "      <td>0.289114</td>\n",
       "    </tr>\n",
       "  </tbody>\n",
       "</table>\n",
       "</div>"
      ],
      "text/plain": [
       "          0         1         2         3         4\n",
       "0  0.540487  0.326558  0.359120  0.350046  0.635693\n",
       "1  0.140096  0.076584  0.072761  0.846030  0.809980\n",
       "2  0.806041  0.635002  0.716215  0.274714  0.092815\n",
       "3  0.271049  0.453517  0.026457  0.256336  0.992762\n",
       "4  0.299175  0.057343  0.793956  0.973251  0.289114"
      ]
     },
     "execution_count": 25,
     "metadata": {},
     "output_type": "execute_result"
    }
   ],
   "source": [
    "newdef.head()"
   ]
  },
  {
   "cell_type": "code",
   "execution_count": 29,
   "id": "8d6cf887",
   "metadata": {},
   "outputs": [
    {
     "data": {
      "text/html": [
       "<div>\n",
       "<style scoped>\n",
       "    .dataframe tbody tr th:only-of-type {\n",
       "        vertical-align: middle;\n",
       "    }\n",
       "\n",
       "    .dataframe tbody tr th {\n",
       "        vertical-align: top;\n",
       "    }\n",
       "\n",
       "    .dataframe thead th {\n",
       "        text-align: right;\n",
       "    }\n",
       "</style>\n",
       "<table border=\"1\" class=\"dataframe\">\n",
       "  <thead>\n",
       "    <tr style=\"text-align: right;\">\n",
       "      <th></th>\n",
       "      <th>4</th>\n",
       "      <th>3</th>\n",
       "      <th>2</th>\n",
       "      <th>1</th>\n",
       "      <th>0</th>\n",
       "    </tr>\n",
       "  </thead>\n",
       "  <tbody>\n",
       "    <tr>\n",
       "      <th>0</th>\n",
       "      <td>0.635693</td>\n",
       "      <td>0.350046</td>\n",
       "      <td>0.359120</td>\n",
       "      <td>0.326558</td>\n",
       "      <td>0.540487</td>\n",
       "    </tr>\n",
       "    <tr>\n",
       "      <th>1</th>\n",
       "      <td>0.809980</td>\n",
       "      <td>0.846030</td>\n",
       "      <td>0.072761</td>\n",
       "      <td>0.076584</td>\n",
       "      <td>0.140096</td>\n",
       "    </tr>\n",
       "    <tr>\n",
       "      <th>2</th>\n",
       "      <td>0.092815</td>\n",
       "      <td>0.274714</td>\n",
       "      <td>0.716215</td>\n",
       "      <td>0.635002</td>\n",
       "      <td>0.806041</td>\n",
       "    </tr>\n",
       "    <tr>\n",
       "      <th>3</th>\n",
       "      <td>0.992762</td>\n",
       "      <td>0.256336</td>\n",
       "      <td>0.026457</td>\n",
       "      <td>0.453517</td>\n",
       "      <td>0.271049</td>\n",
       "    </tr>\n",
       "    <tr>\n",
       "      <th>4</th>\n",
       "      <td>0.289114</td>\n",
       "      <td>0.973251</td>\n",
       "      <td>0.793956</td>\n",
       "      <td>0.057343</td>\n",
       "      <td>0.299175</td>\n",
       "    </tr>\n",
       "    <tr>\n",
       "      <th>...</th>\n",
       "      <td>...</td>\n",
       "      <td>...</td>\n",
       "      <td>...</td>\n",
       "      <td>...</td>\n",
       "      <td>...</td>\n",
       "    </tr>\n",
       "    <tr>\n",
       "      <th>329</th>\n",
       "      <td>0.691076</td>\n",
       "      <td>0.881255</td>\n",
       "      <td>0.658508</td>\n",
       "      <td>0.041990</td>\n",
       "      <td>0.087226</td>\n",
       "    </tr>\n",
       "    <tr>\n",
       "      <th>330</th>\n",
       "      <td>0.156788</td>\n",
       "      <td>0.572385</td>\n",
       "      <td>0.565225</td>\n",
       "      <td>0.694998</td>\n",
       "      <td>0.483579</td>\n",
       "    </tr>\n",
       "    <tr>\n",
       "      <th>331</th>\n",
       "      <td>0.303188</td>\n",
       "      <td>0.841320</td>\n",
       "      <td>0.691282</td>\n",
       "      <td>0.689593</td>\n",
       "      <td>0.320626</td>\n",
       "    </tr>\n",
       "    <tr>\n",
       "      <th>332</th>\n",
       "      <td>0.804560</td>\n",
       "      <td>0.743703</td>\n",
       "      <td>0.326371</td>\n",
       "      <td>0.919910</td>\n",
       "      <td>0.812029</td>\n",
       "    </tr>\n",
       "    <tr>\n",
       "      <th>333</th>\n",
       "      <td>0.484948</td>\n",
       "      <td>0.859652</td>\n",
       "      <td>0.774879</td>\n",
       "      <td>0.969311</td>\n",
       "      <td>0.448232</td>\n",
       "    </tr>\n",
       "  </tbody>\n",
       "</table>\n",
       "<p>334 rows × 5 columns</p>\n",
       "</div>"
      ],
      "text/plain": [
       "            4         3         2         1         0\n",
       "0    0.635693  0.350046  0.359120  0.326558  0.540487\n",
       "1    0.809980  0.846030  0.072761  0.076584  0.140096\n",
       "2    0.092815  0.274714  0.716215  0.635002  0.806041\n",
       "3    0.992762  0.256336  0.026457  0.453517  0.271049\n",
       "4    0.289114  0.973251  0.793956  0.057343  0.299175\n",
       "..        ...       ...       ...       ...       ...\n",
       "329  0.691076  0.881255  0.658508  0.041990  0.087226\n",
       "330  0.156788  0.572385  0.565225  0.694998  0.483579\n",
       "331  0.303188  0.841320  0.691282  0.689593  0.320626\n",
       "332  0.804560  0.743703  0.326371  0.919910  0.812029\n",
       "333  0.484948  0.859652  0.774879  0.969311  0.448232\n",
       "\n",
       "[334 rows x 5 columns]"
      ]
     },
     "execution_count": 29,
     "metadata": {},
     "output_type": "execute_result"
    }
   ],
   "source": [
    "# newdef.sort_index(axis=0,ascending=False)\n",
    "newdef.sort_index(axis=1,ascending=False)"
   ]
  },
  {
   "cell_type": "code",
   "execution_count": null,
   "id": "16dee676",
   "metadata": {},
   "outputs": [],
   "source": []
  }
 ],
 "metadata": {
  "kernelspec": {
   "display_name": "base",
   "language": "python",
   "name": "python3"
  },
  "language_info": {
   "codemirror_mode": {
    "name": "ipython",
    "version": 3
   },
   "file_extension": ".py",
   "mimetype": "text/x-python",
   "name": "python",
   "nbconvert_exporter": "python",
   "pygments_lexer": "ipython3",
   "version": "3.12.7"
  }
 },
 "nbformat": 4,
 "nbformat_minor": 5
}
