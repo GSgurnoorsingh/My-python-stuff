{
 "cells": [
  {
   "cell_type": "code",
   "execution_count": 1,
   "metadata": {},
   "outputs": [
    {
     "data": {
      "text/plain": [
       "True"
      ]
     },
     "execution_count": 1,
     "metadata": {},
     "output_type": "execute_result"
    }
   ],
   "source": [
    "def check_even_list(numberlist):\n",
    "    for number in numberlist:\n",
    "        if number%2==0:\n",
    "            return True\n",
    "        else:\n",
    "            pass\n",
    "    return False\n",
    "\n",
    "check_even_list([1,2,3,4])"
   ]
  },
  {
   "cell_type": "code",
   "execution_count": 2,
   "metadata": {},
   "outputs": [
    {
     "data": {
      "text/plain": [
       "False"
      ]
     },
     "execution_count": 2,
     "metadata": {},
     "output_type": "execute_result"
    }
   ],
   "source": [
    "check_even_list([1,3,5,7,9])"
   ]
  },
  {
   "cell_type": "code",
   "execution_count": null,
   "metadata": {},
   "outputs": [
    {
     "data": {
      "text/plain": [
       "[20, 42, 84]"
      ]
     },
     "execution_count": 3,
     "metadata": {},
     "output_type": "execute_result"
    }
   ],
   "source": [
    "def return_even_number(number):\n",
    "    even_numbers=[]\n",
    "    for i in number:\n",
    "        if i%2==0:\n",
    "            even_numbers.append(i)\n",
    "        else:\n",
    "            pass\n",
    "    return even_numbers\n",
    "\n",
    "return_even_number([1,20,31,42,63,84])"
   ]
  },
  {
   "cell_type": "markdown",
   "metadata": {},
   "source": [
    "TUPLE UNPACKING IN FUNCTIONS"
   ]
  },
  {
   "cell_type": "code",
   "execution_count": 3,
   "metadata": {},
   "outputs": [
    {
     "data": {
      "text/plain": [
       "('Prixy', 300)"
      ]
     },
     "execution_count": 3,
     "metadata": {},
     "output_type": "execute_result"
    }
   ],
   "source": [
    "employee_details=[('Abby',100),('Mandy',200),(\"Prixy\",300)]\n",
    "def employee_check_hours(employee_details):\n",
    "    current_max=0\n",
    "    employee_name=\"\"\n",
    "    for i,hours in employee_details:\n",
    "        if hours>current_max:\n",
    "            current_max=hours\n",
    "            employee_name=i\n",
    "        else:\n",
    "            pass\n",
    "        \n",
    "    return(employee_name,current_max)\n",
    "\n",
    "employee_check_hours(employee_details)"
   ]
  },
  {
   "cell_type": "code",
   "execution_count": 4,
   "metadata": {},
   "outputs": [
    {
     "name": "stdout",
     "output_type": "stream",
     "text": [
      "Prixy\n",
      "300\n"
     ]
    }
   ],
   "source": [
    "name,hours=employee_check_hours(employee_details)\n",
    "print(name)\n",
    "print(hours)"
   ]
  },
  {
   "cell_type": "markdown",
   "metadata": {},
   "source": [
    "Now talking about *args and *kwargs"
   ]
  },
  {
   "cell_type": "code",
   "execution_count": 3,
   "metadata": {},
   "outputs": [
    {
     "data": {
      "text/plain": [
       "9.0"
      ]
     },
     "execution_count": 3,
     "metadata": {},
     "output_type": "execute_result"
    }
   ],
   "source": [
    "#*args stores the values inside a function as a tuple\n",
    "def myfunc(*args):\n",
    "    return sum(args)*0.05\n",
    "\n",
    "myfunc(10,20,40,50,60) #Since we used *args function therefore now we can assign as many values as possible in calling a function"
   ]
  },
  {
   "cell_type": "code",
   "execution_count": 6,
   "metadata": {},
   "outputs": [
    {
     "name": "stdout",
     "output_type": "stream",
     "text": [
      "{'fruit': 'Apple'}\n",
      "MY fruit of choice is Apple\n"
     ]
    }
   ],
   "source": [
    "def myfunc(**kwargs): #Just like *args created a tuple **kwargs creates a dictionary\n",
    "    print(kwargs)\n",
    "    if \"fruit\" in kwargs:\n",
    "        print(f\"MY fruit of choice is {kwargs['fruit']}\")\n",
    "    else:\n",
    "        print(\"I didnt have choice between the fruits\")\n",
    "\n",
    "myfunc(fruit=\"Apple\")"
   ]
  },
  {
   "cell_type": "code",
   "execution_count": 7,
   "metadata": {},
   "outputs": [
    {
     "name": "stdout",
     "output_type": "stream",
     "text": [
      "(10, 20, 30)\n",
      "{'fruit': 'orange', 'food': 'eggs', 'animal': 'dog'}\n",
      "I would like 10 eggs\n"
     ]
    }
   ],
   "source": [
    "#using both args and kwargs\n",
    "def myfunc(*args,**kwargs):\n",
    "    print(args)\n",
    "    print(kwargs)\n",
    "    print(f\"I would like {args[0]} {kwargs['food']}\")\n",
    "    \n",
    "myfunc(10,20,30,fruit='orange',food='eggs',animal='dog')\n",
    "\n",
    "    "
   ]
  },
  {
   "cell_type": "code",
   "execution_count": 3,
   "metadata": {},
   "outputs": [],
   "source": [
    "def myfunc(*args):\n",
    "    lst=[]\n",
    "    for num in args:\n",
    "        if num%2==0:\n",
    "            ap=lst.append(num)\n",
    "    return ap\n",
    "    print(ap)\n",
    "myfunc(10,31,20,19,78)"
   ]
  },
  {
   "cell_type": "code",
   "execution_count": 6,
   "metadata": {},
   "outputs": [
    {
     "data": {
      "text/plain": [
       "False"
      ]
     },
     "execution_count": 6,
     "metadata": {},
     "output_type": "execute_result"
    }
   ],
   "source": [
    "def myfunc(stri):\n",
    "    if stri.isupper()==True:\n",
    "        stri=stri.islower()\n",
    "    else:\n",
    "        stri=stri.isupper()\n",
    "    \n",
    "    return stri\n",
    "\n",
    "myfunc(\"miSSisipi\")"
   ]
  },
  {
   "cell_type": "markdown",
   "metadata": {},
   "source": [
    "The join() method is used to concatenate all the elements of a list (or any iterable) into a single string. It takes the string before the dot ('') as a separator, and then joins all elements in the list.\n",
    "\n",
    "lst = ['a', 'b', 'c']\n",
    "\n",
    "result = ''.join(lst)  this returns 'abc'\n",
    "\n",
    "result = '-'.join(lst) this returns 'a-b-c'"
   ]
  },
  {
   "cell_type": "code",
   "execution_count": 18,
   "metadata": {},
   "outputs": [],
   "source": [
    "def myfunc(string):\n",
    "    l1=[]\n",
    "    for i in range (len(string)):\n",
    "        if i%2==0:\n",
    "            l1.append(string[i].upper())\n",
    "        else:\n",
    "            l1.append(string[i].lower())\n",
    "            \n",
    "    return ''.join(l1) # Properly joins the list into a single string"
   ]
  },
  {
   "cell_type": "code",
   "execution_count": 22,
   "metadata": {},
   "outputs": [
    {
     "data": {
      "text/plain": [
       "'UiFwEbBbB'"
      ]
     },
     "execution_count": 22,
     "metadata": {},
     "output_type": "execute_result"
    }
   ],
   "source": [
    "# myfunc(\"MIssisipi\")\n",
    "# myfunc(\"fahR\")\n",
    "# myfunc('wakdbgfwakfn')\n",
    "myfunc('uifwebbbb')"
   ]
  },
  {
   "cell_type": "markdown",
   "metadata": {},
   "source": [
    "From the following below cells i am just preparing for my exam.These are not a part of this notebook"
   ]
  },
  {
   "cell_type": "code",
   "execution_count": 17,
   "metadata": {},
   "outputs": [],
   "source": [
    "# def primes(n=100):\n",
    "#     prime_list=[]\n",
    "#     num=2\n",
    "#     while len(prime_list)<n:\n",
    "#         is_prime=True\n",
    "#         for p in prime_list:\n",
    "#             if p*p>num:\n",
    "#                 break\n",
    "#             if num%p==0:\n",
    "#                 is_prime=False\n",
    "#                 break\n",
    "#         if is_prime:\n",
    "#             prime_list.append(num)\n",
    "#         num+=1\n",
    "#     return prime_list\n",
    "\n",
    "# primes()"
   ]
  },
  {
   "cell_type": "code",
   "execution_count": 28,
   "metadata": {},
   "outputs": [
    {
     "name": "stdout",
     "output_type": "stream",
     "text": [
      "Number of uppercase letters in the string are 6\n",
      "NUmber of lowercase letters in the string are 4\n"
     ]
    }
   ],
   "source": [
    "s=input(\"Enter a string\")\n",
    "l=[]\n",
    "n=[]\n",
    "for i in s:\n",
    "    if i.isupper():\n",
    "        l.append(s.count(i))\n",
    "    elif i.islower():\n",
    "        n.append(s.count(i))\n",
    "print(f\"Number of uppercase letters in the string are {len(l)}\")\n",
    "print(f\"NUmber of lowercase letters in the string are {len(n)}\")"
   ]
  },
  {
   "cell_type": "code",
   "execution_count": 1,
   "metadata": {},
   "outputs": [
    {
     "data": {
      "text/plain": [
       "True"
      ]
     },
     "execution_count": 1,
     "metadata": {},
     "output_type": "execute_result"
    }
   ],
   "source": [
    "def is_palindrome(num):\n",
    "    return num==num[::-1]\n",
    "is_palindrome('madam')"
   ]
  },
  {
   "cell_type": "code",
   "execution_count": 2,
   "metadata": {},
   "outputs": [
    {
     "name": "stdout",
     "output_type": "stream",
     "text": [
      "[34, 2, 6, 8, 44]\n"
     ]
    }
   ],
   "source": [
    "numbers = [34,2,5,6,8,9,33,1,7,44]\n",
    "even_numbers=list(filter(lambda x:x%2==0,numbers))\n",
    "print(even_numbers)"
   ]
  }
 ],
 "metadata": {
  "kernelspec": {
   "display_name": "base",
   "language": "python",
   "name": "python3"
  },
  "language_info": {
   "codemirror_mode": {
    "name": "ipython",
    "version": 3
   },
   "file_extension": ".py",
   "mimetype": "text/x-python",
   "name": "python",
   "nbconvert_exporter": "python",
   "pygments_lexer": "ipython3",
   "version": "3.12.7"
  }
 },
 "nbformat": 4,
 "nbformat_minor": 2
}
