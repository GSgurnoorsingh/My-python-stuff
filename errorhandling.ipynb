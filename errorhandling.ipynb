{
 "cells": [
  {
   "cell_type": "markdown",
   "metadata": {},
   "source": [
    "try and except statement"
   ]
  },
  {
   "cell_type": "code",
   "execution_count": 3,
   "metadata": {},
   "outputs": [
    {
     "name": "stdout",
     "output_type": "stream",
     "text": [
      "Looks like you have added wrongly\n"
     ]
    }
   ],
   "source": [
    "try:\n",
    "    result=10+\"10\"\n",
    "except:\n",
    "    print(\"Looks like you have added wrongly\")#It means if there is an error it will not give error but will print except block statement\n",
    "    \n",
    "else:\n",
    "    print(\"Add went well\")\n",
    "    print(result)"
   ]
  },
  {
   "cell_type": "code",
   "execution_count": 4,
   "metadata": {},
   "outputs": [
    {
     "name": "stdout",
     "output_type": "stream",
     "text": [
      "I always run\n"
     ]
    }
   ],
   "source": [
    "try:\n",
    "    f=open('testfile.txt','w')\n",
    "    f.write(\"I am writing a test line\")\n",
    "    \n",
    "#These two except statements below means that \n",
    "#we can specify that for what type of error we are running the except block\n",
    "\n",
    "except TypeError:\n",
    "    print(\"There is a type error\")\n",
    "except OSError:\n",
    "    print(\"There is an os error\") \n",
    "\n",
    "finally:\n",
    "    print(\"I always run\") #finally block will always run no matter what the error "
   ]
  },
  {
   "cell_type": "code",
   "execution_count": 7,
   "metadata": {},
   "outputs": [
    {
     "name": "stdout",
     "output_type": "stream",
     "text": [
      "Whoops! That's not a number\n",
      "End of try/except/finally\n"
     ]
    }
   ],
   "source": [
    "def ask_for_int():\n",
    "    try:\n",
    "        n=int(input(\"Please enter any number\"))\n",
    "    except:\n",
    "        print(\"Whoops! That's not a number\")\n",
    "    finally:\n",
    "        print('End of try/except/finally')\n",
    "        \n",
    "ask_for_int()"
   ]
  },
  {
   "cell_type": "code",
   "execution_count": 9,
   "metadata": {},
   "outputs": [
    {
     "name": "stdout",
     "output_type": "stream",
     "text": [
      "Whoops! That's not a number\n",
      "End of try/except/finally\n",
      "I always print at the end\n",
      "Whoops! That's not a number\n",
      "End of try/except/finally\n",
      "I always print at the end\n",
      "Yes thankyou\n",
      "End of try/except/finally\n",
      "I always print at the end\n"
     ]
    }
   ],
   "source": [
    "def ask_for_int():\n",
    "    while True:\n",
    "        try:\n",
    "            n=int(input(\"Please enter any number\"))\n",
    "        except:\n",
    "            print(\"Whoops! That's not a number\")\n",
    "            continue\n",
    "        else:\n",
    "            print(\"Yes thankyou\")\n",
    "            break\n",
    "        finally:\n",
    "            print('End of try/except/finally')\n",
    "            print('I always print at the end')\n",
    "        \n",
    "ask_for_int()"
   ]
  }
 ],
 "metadata": {
  "kernelspec": {
   "display_name": "base",
   "language": "python",
   "name": "python3"
  },
  "language_info": {
   "codemirror_mode": {
    "name": "ipython",
    "version": 3
   },
   "file_extension": ".py",
   "mimetype": "text/x-python",
   "name": "python",
   "nbconvert_exporter": "python",
   "pygments_lexer": "ipython3",
   "version": "3.12.7"
  }
 },
 "nbformat": 4,
 "nbformat_minor": 2
}
