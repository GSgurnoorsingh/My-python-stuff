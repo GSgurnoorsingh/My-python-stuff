{
 "cells": [
  {
   "cell_type": "code",
   "execution_count": 3,
   "metadata": {},
   "outputs": [
    {
     "data": {
      "text/plain": [
       "'lab'"
      ]
     },
     "execution_count": 3,
     "metadata": {},
     "output_type": "execute_result"
    }
   ],
   "source": [
    "class dog():\n",
    "    def __init__(self,breed):\n",
    "        self.breed=breed\n",
    "        \n",
    "my_dog=dog(breed=\"lab\")\n",
    "type(my_dog)\n",
    "my_dog.breed"
   ]
  },
  {
   "cell_type": "code",
   "execution_count": 8,
   "metadata": {},
   "outputs": [
    {
     "name": "stdout",
     "output_type": "stream",
     "text": [
      "Husky\n",
      "Tommy\n",
      "True\n"
     ]
    }
   ],
   "source": [
    "class dog():\n",
    "    species=\"mammal\" #This is a class object attribute and remains same for any instance\n",
    "    def __init__(self,breed,name,spots):\n",
    "        self.breed=breed\n",
    "        self.name=name\n",
    "        self.spots=spots\n",
    "        \n",
    "my_dog=dog(breed=\"Husky\",name='Tommy',spots=True)\n",
    "\n",
    "print(my_dog.breed)\n",
    "print(my_dog.name)\n",
    "print(my_dog.spots)"
   ]
  },
  {
   "cell_type": "code",
   "execution_count": 7,
   "metadata": {},
   "outputs": [
    {
     "name": "stdout",
     "output_type": "stream",
     "text": [
      "mammal\n"
     ]
    }
   ],
   "source": [
    "print(my_dog.species)"
   ]
  },
  {
   "cell_type": "code",
   "execution_count": null,
   "metadata": {},
   "outputs": [
    {
     "name": "stdout",
     "output_type": "stream",
     "text": [
      "Labrador\n",
      "Frankie\n",
      "WOOF! my name is Frankie and my no is 10\n"
     ]
    }
   ],
   "source": [
    "class dog():\n",
    "    species=\"mammal\" #This is a class object attribute and remains same for any instance\n",
    "    def __init__(self,breed,name):\n",
    "        self.breed=breed\n",
    "        self.name=name\n",
    "        \n",
    "    #Operations/Actions ---> Methods\n",
    "    def bark(self,number):\n",
    "        print(f\"WOOF! my name is {self.name} and my no is {number}\")\n",
    "        \n",
    "my_dog=dog(\"Labrador\",\"Frankie\")\n",
    "\n",
    "print(my_dog.breed)\n",
    "print(my_dog.name)\n",
    "my_dog.bark(10) #Thats how you connected number to the bark method\n",
    "    "
   ]
  },
  {
   "cell_type": "code",
   "execution_count": null,
   "metadata": {},
   "outputs": [],
   "source": [
    "class circle():\n",
    "    \n",
    "    #Class object attribute\n",
    "    pi=3.14\n",
    "    def __init__(self,radius=1):\n",
    "        self.radius=radius\n",
    "        self.area=self.pi*(radius)**2 #(Or you can use circle.pi also)\n",
    "        \n",
    "    def get_circumference(self):\n",
    "        return 2*self.pi*self.radius"
   ]
  },
  {
   "cell_type": "code",
   "execution_count": 25,
   "metadata": {},
   "outputs": [
    {
     "name": "stdout",
     "output_type": "stream",
     "text": [
      "3.14\n",
      "30\n",
      "188.4\n",
      "2826.0\n"
     ]
    }
   ],
   "source": [
    "my_circle=circle(30)\n",
    "print(my_circle.pi)\n",
    "print(my_circle.radius)\n",
    "print(my_circle.get_circumference())\n",
    "print(my_circle.area)"
   ]
  },
  {
   "cell_type": "markdown",
   "metadata": {},
   "source": [
    "OOPS part 3 (inheritance and polymorphism)"
   ]
  },
  {
   "cell_type": "code",
   "execution_count": 34,
   "metadata": {},
   "outputs": [],
   "source": [
    "class Animal():\n",
    "    def __init__(self):\n",
    "        print(\"Animal created\")\n",
    "    \n",
    "    def who_am_I(self):\n",
    "        print(\"I am an animal\")\n",
    "        \n",
    "    def eat(self):\n",
    "        print(\"I am eating\")"
   ]
  },
  {
   "cell_type": "code",
   "execution_count": 40,
   "metadata": {},
   "outputs": [
    {
     "name": "stdout",
     "output_type": "stream",
     "text": [
      "I am eating\n",
      "I am a dog\n",
      "WOOF!\n"
     ]
    }
   ],
   "source": [
    "class dog(Animal):\n",
    "    def __init__(self):\n",
    "        def __init__(self):\n",
    "            Animal.__init__(self)\n",
    "            print(\"Dog created\")\n",
    "            \n",
    "    def bark(self):\n",
    "        print(\"WOOF!\")\n",
    "        \n",
    "    def who_am_I(self):\n",
    "        print(\"I am a dog\")\n",
    "            \n",
    "            \n",
    "mydog=dog()\n",
    "mydog.eat()\n",
    "mydog.who_am_I()\n",
    "mydog.bark()\n",
    "#Remember you can also overwrite methods in the child class same as parent class "
   ]
  },
  {
   "cell_type": "markdown",
   "metadata": {},
   "source": [
    "Now time for polymorphism"
   ]
  },
  {
   "cell_type": "code",
   "execution_count": 42,
   "metadata": {},
   "outputs": [
    {
     "name": "stdout",
     "output_type": "stream",
     "text": [
      "niko Says woof!\n",
      "felix Says meow!\n"
     ]
    }
   ],
   "source": [
    "class dog():\n",
    "    def __init__(self,name):\n",
    "        self.name=name\n",
    "        \n",
    "    def speak(self):\n",
    "        return self.name+\" Says woof!\"\n",
    "    \n",
    "class cat():\n",
    "    def __init__(self,name):\n",
    "        self.name=name\n",
    "        \n",
    "    def speak(self):\n",
    "        return self.name+\" Says meow!\"\n",
    "    \n",
    "niko=dog(\"niko\")\n",
    "felix=cat(\"felix\")\n",
    "\n",
    "print(niko.speak())\n",
    "print(felix.speak())"
   ]
  },
  {
   "cell_type": "code",
   "execution_count": null,
   "metadata": {},
   "outputs": [
    {
     "name": "stdout",
     "output_type": "stream",
     "text": [
      "niko Says woof!\n"
     ]
    }
   ],
   "source": [
    "def pet_speak(pet):\n",
    "    print(pet.speak())\n",
    "    \n",
    "pet_speak(niko)\n"
   ]
  },
  {
   "cell_type": "code",
   "execution_count": 45,
   "metadata": {},
   "outputs": [
    {
     "name": "stdout",
     "output_type": "stream",
     "text": [
      "felix Says meow!\n"
     ]
    }
   ],
   "source": [
    "pet_speak(felix) #Ultimately kehna ka mtlb ye hai ki bhale hi different class ho but there can be same methods which is called polymorphism"
   ]
  },
  {
   "cell_type": "markdown",
   "metadata": {},
   "source": [
    "Oops part 4 (magic and dunder methods)"
   ]
  },
  {
   "cell_type": "code",
   "execution_count": 19,
   "metadata": {},
   "outputs": [],
   "source": [
    "class book():\n",
    "    def __init__(self,title,author,pages):\n",
    "        self.title=title\n",
    "        self.author=author\n",
    "        self.pages=pages\n",
    "        \n",
    "    def __str__(self):\n",
    "        return f\"{self.title} by {self.author}\"\n",
    "    \n",
    "    def __len__(self):\n",
    "        return self.pages\n",
    "    \n",
    "    def __del__(self):\n",
    "        print(\"A book has been deleted\")"
   ]
  },
  {
   "cell_type": "code",
   "execution_count": 20,
   "metadata": {},
   "outputs": [
    {
     "name": "stdout",
     "output_type": "stream",
     "text": [
      "Python rocks by JOSE\n"
     ]
    }
   ],
   "source": [
    "b=book(\"Python rocks\",\"JOSE\",900)\n",
    "print(b) #When we called b it actually went inside the class and looked for str method which when encountered is called when we call print"
   ]
  },
  {
   "cell_type": "code",
   "execution_count": 21,
   "metadata": {},
   "outputs": [
    {
     "name": "stdout",
     "output_type": "stream",
     "text": [
      "Python rocks by JOSE\n"
     ]
    }
   ],
   "source": [
    "print(str(b))"
   ]
  },
  {
   "cell_type": "code",
   "execution_count": 22,
   "metadata": {},
   "outputs": [
    {
     "data": {
      "text/plain": [
       "900"
      ]
     },
     "execution_count": 22,
     "metadata": {},
     "output_type": "execute_result"
    }
   ],
   "source": [
    "len(b)"
   ]
  },
  {
   "cell_type": "code",
   "execution_count": null,
   "metadata": {},
   "outputs": [
    {
     "name": "stdout",
     "output_type": "stream",
     "text": [
      "A book has been deleted\n"
     ]
    }
   ],
   "source": [
    "del b #Now when you will call b , it will give error"
   ]
  },
  {
   "cell_type": "markdown",
   "metadata": {},
   "source": [
    "Grab a current attribute and then affect a change on it"
   ]
  },
  {
   "cell_type": "code",
   "execution_count": 27,
   "metadata": {},
   "outputs": [
    {
     "name": "stdout",
     "output_type": "stream",
     "text": [
      "300\n",
      "800\n"
     ]
    }
   ],
   "source": [
    "class simple():\n",
    "    def __init__(self,value):\n",
    "        self.value=value\n",
    "        \n",
    "    def add_to_value(self,amount):\n",
    "        self.value=self.value+amount\n",
    "        \n",
    "myobj=simple(300)\n",
    "print(myobj.value)\n",
    "myobj.add_to_value(500)\n",
    "print(myobj.value)"
   ]
  }
 ],
 "metadata": {
  "kernelspec": {
   "display_name": "base",
   "language": "python",
   "name": "python3"
  },
  "language_info": {
   "codemirror_mode": {
    "name": "ipython",
    "version": 3
   },
   "file_extension": ".py",
   "mimetype": "text/x-python",
   "name": "python",
   "nbconvert_exporter": "python",
   "pygments_lexer": "ipython3",
   "version": "3.12.7"
  }
 },
 "nbformat": 4,
 "nbformat_minor": 2
}
